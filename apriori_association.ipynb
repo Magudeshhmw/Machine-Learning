{
 "cells": [
  {
   "cell_type": "markdown",
   "metadata": {},
   "source": [
    "# Apriori and Association Rules\n",
    "**Author:** Magudeshwaran and Senthilkumaran\n",
    "\n",
    "**Goal:** Find frequent itemsets and association rules in a sample dataset using the Apriori algorithm."
   ]
  },
  {
   "cell_type": "markdown",
   "metadata": {},
   "source": [
    "### Step 1: Import Libraries\n",
    "We need `pandas` to create our DataFrame and `mlxtend` for the Apriori algorithm."
   ]
  },
  {
   "cell_type": "code",
   "execution_count": null,
   "metadata": {},
   "outputs": [],
   "source": [
    "import pandas as pd\n",
    "from mlxtend.frequent_patterns import apriori, association_rules"
   ]
  },
  {
   "cell_type": "markdown",
   "metadata": {},
   "source": [
    "### Step 2: Create the Dataset\n",
    "We will create a small, sample dataset of transactions. Each row represents a transaction, and each column represents an item. A `1` means the item was in the transaction, and a `0` means it was not."
   ]
  },
  {
   "cell_type": "code",
   "execution_count": null,
   "metadata": {},
   "outputs": [],
   "source": [
    "data = {\n",
    "    'apple': [1, 0, 1, 1, 0],\n",
    "    'banana': [1, 1, 1, 0, 1],\n",
    "    'carrot': [0, 1, 0, 1, 1],\n",
    "    'spinach': [0, 0, 1, 1, 1],\n",
    "    'tomato': [1, 1, 0, 0, 1]\n",
    "}\n",
    "df = pd.DataFrame(data)"
   ]
  },
  {
   "cell_type": "markdown",
   "metadata": {},
   "source": [
    "### Step 3: Convert Data to Boolean Type\n",
    "The Apriori function works best with boolean (`True`/`False`) values. We will convert our `1`s and `0`s to booleans to ensure the code runs efficiently and without warnings."
   ]
  },
  {
   "cell_type": "code",
   "execution_count": null,
   "metadata": {},
   "outputs": [],
   "source": [
    "df_bool = df.astype(bool)\n",
    "df_bool.head()"
   ]
  },
  {
   "cell_type": "markdown",
   "metadata": {},
   "source": [
    "### Step 4: Find Frequent Itemsets\n",
    "Now, we run the **Apriori algorithm** to find itemsets that appear frequently in our data. We set `min_support=0.4`, which means we are only interested in itemsets that appear in at least 40% of the transactions."
   ]
  },
  {
   "cell_type": "code",
   "execution_count": null,
   "metadata": {},
   "outputs": [],
   "source": [
    "frequent_itemsets = apriori(df_bool, min_support=0.4, use_colnames=True)\n",
    "print(\"Frequent Itemsets:\")\n",
    "print(frequent_itemsets)"
   ]
  },
  {
   "cell_type": "markdown",
   "metadata": {},
   "source": [
    "### Step 5: Generate Association Rules\n",
    "From the frequent itemsets, we can generate **association rules**. We will look for rules that have a **confidence** of at least 0.7. Confidence is a measure of how often the items in the consequent appear in transactions that contain the antecedent."
   ]
  },
  {
   "cell_type": "code",
   "execution_count": null,
   "metadata": {},
   "outputs": [],
   "source": [
    "rules = association_rules(frequent_itemsets, metric=\"confidence\", min_threshold=0.7)"
   ]
  },
  {
   "cell_type": "markdown",
   "metadata": {},
   "source": [
    "### Step 6: View the Results\n",
    "Let's look at the generated rules. We will display the most important columns:\n",
    "- **antecedents:** The item(s) on the left side of the rule (IF this...).\n",
    "- **consequents:** The item(s) on the right side of the rule (...THEN this).\n",
    "- **support:** How frequently the itemset appears in the data.\n",
    "- **confidence:** The reliability of the rule.\n",
    "- **lift:** How much more likely the consequent is purchased when the antecedent is purchased."
   ]
  },
  {
   "cell_type": "code",
   "execution_count": null,
   "metadata": {},
   "outputs": [],
   "source": [
    "print(\"Association Rules:\")\n",
    "rules[['antecedents', 'consequents', 'support', 'confidence', 'lift']]"
   ]
  }
 ],
 "metadata": {
  "kernelspec": {
   "display_name": "Python 3",
   "language": "python",
   "name": "python3"
  },
  "language_info": {
   "codemirror_mode": {
    "name": "ipython",
    "version": 3
   },
   "file_extension": ".py",
   "mimetype": "text/x-python",
   "name": "python",
   "nbconvert_exporter": "python",
   "pygments_lexer": "ipython3",
   "version": "3.12.4"
  }
 },
 "nbformat": 4,
 "nbformat_minor": 2
}
