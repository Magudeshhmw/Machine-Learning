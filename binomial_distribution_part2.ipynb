{
 "cells": [
  {
   "cell_type": "markdown",
   "metadata": {},
   "source": [
    "# Binomial Distribution Simulation\n",
    "**Author:** Magudeshwaran and Senthilkumaran\n",
    "\n",
    "**Goal:** Understand and visualize the Binomial Probability Distribution."
   ]
  },
  {
   "cell_type": "markdown",
   "metadata": {},
   "source": [
    "### Step 1: Import Libraries\n",
    "We need `numpy` for numerical operations, `matplotlib` for plotting, and `seaborn` for more advanced visualizations."
   ]
  },
  {
   "cell_type": "code",
   "execution_count": null,
   "metadata": {},
   "source": [
    "import numpy as np\n",
    "import matplotlib.pyplot as plt\n",
    "import seaborn as sns"
   ]
  },
  {
   "cell_type": "markdown",
   "metadata": {},
   "source": [
    "### Step 2: Define Parameters for Binomial Distribution\n",
    "The binomial distribution has two main parameters:\n",
    "- **`n` (number of trials):** The total number of attempts or observations.\n",
    "- **`p` (probability of success):** The likelihood of a successful outcome in each trial."
   ]
  },
  {
   "cell_type": "code",
   "execution_count": null,
   "metadata": {},
   "source": [
    "n = 10  # Number of trials\n",
    "p = 0.5 # Probability of success (e.g., flipping a fair coin)"
   ]
  },
  {
   "cell_type": "markdown",
   "metadata": {},
   "source": [
    "### Step 3: Generate Binomial Distribution Data\n",
    "We will simulate 1000 experiments, each consisting of `n` trials. For each experiment, we count the number of successes. This will give us a set of data points that follow a binomial distribution."
   ]
  },
  {
   "cell_type": "code",
   "execution_count": null,
   "metadata": {},
   "source": [
    "# Generate 1000 random numbers from a binomial distribution\n",
    "data = np.random.binomial(n, p, 1000)"
   ]
  },
  {
   "cell_type": "markdown",
   "metadata": {},
   "source": [
    "### Step 4: Visualize the Distribution with Matplotlib\n",
    "A histogram is a great way to visualize the frequency of different outcomes in our simulated data. It will show us the shape of the binomial distribution."
   ]
  },
  {
   "cell_type": "code",
   "execution_count": null,
   "metadata": {},
   "source": [
    "plt.hist(data, bins=np.arange(n+2)-0.5, edgecolor='black', density=True)\n",
    "plt.title('Binomial Distribution (n=10, p=0.5)')\n",
    "plt.xlabel('Number of Successes')\n",
    "plt.ylabel('Probability')\n",
    "plt.xticks(np.arange(n+1))\n",
    "plt.grid(axis='y', alpha=0.75)\n",
    "plt.show()"
   ]
  },
  {
   "cell_type": "markdown",
   "metadata": {},
   "source": [
    "### Step 5: Visualize the Distribution with Seaborn\n",
    "\n",
    "Seaborn's `distplot` provides another way to visualize the distribution. We can show just the histogram or overlay a Kernel Density Estimate (KDE) to see a smoothed version of the distribution."
   ]
  },
  {
   "cell_type": "markdown",
   "metadata": {},
   "source": [
    "#### Seaborn Histogram without KDE"
   ]
  },
  {
   "cell_type": "code",
   "execution_count": null,
   "metadata": {},
   "source": [
    "sns.distplot(data, hist=True, kde=False)  \n",
    "plt.title('Seaborn Binomial Distribution (Histogram Only)')\n",
    "plt.xlabel('Number of Successes')\n",
    "plt.ylabel('Frequency')\n",
    "plt.show()"
   ]
  },
  {
   "cell_type": "markdown",
   "metadata": {},
   "source": [
    "#### Seaborn Histogram with KDE"
   ]
  },
  {
   "cell_type": "code",
   "execution_count": null,
   "metadata": {},
   "source": [
    "sns.distplot(data, hist=True, kde=True)  \n",
    "plt.title('Seaborn Binomial Distribution (Histogram with KDE)')\n",
    "plt.xlabel('Number of Successes')\n",
    "plt.show()"
   ]
  }
 ],
 "metadata": {
  "kernelspec": {
   "display_name": "Python 3",
   "language": "python",
   "name": "python3"
  },
  "language_info": {
   "codemirror_mode": {
    "name": "ipython",
    "version": 3
   },
   "file_extension": ".py",
   "mimetype": "text/x-python",
   "name": "python",
   "nbconvert_exporter": "python",
   "pygments_lexer": "ipython3",
   "version": "3.12.4"
  }
 },
 "nbformat": 4,
 "nbformat_minor": 2
}