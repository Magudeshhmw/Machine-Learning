{
 "cells": [
  {
   "cell_type": "markdown",
   "metadata": {},
   "source": [
    "# NumPy Examples\n",
    "**Author:** Magudeshwaran and Senthilkumaran\n",
    "\n",
    "**Goal:** To demonstrate fundamental operations in the NumPy library."
   ]
  },
  {
   "cell_type": "markdown",
   "metadata": {},
   "source": [
    "### Step 1: Import NumPy"
   ]
  },
  {
   "cell_type": "code",
   "execution_count": 1,
   "id": "10fecde0-eb58-44fc-a8d3-c2efbb391134",
   "metadata": {},
   "outputs": [],
   "source": [
    "import numpy as np"
   ]
  },
  {
   "cell_type": "markdown",
   "metadata": {},
   "source": [
    "### Step 2: Creating NumPy Arrays\n",
    "\n",
    "We can create NumPy arrays from Python lists."
   ]
  },
  {
   "cell_type": "markdown",
   "metadata": {},
   "source": [
    "#### 1-Dimensional Array"
   ]
  },
  {
   "cell_type": "code",
   "execution_count": 2,
   "id": "4cba49f9-fde2-4e15-8186-b4c18216a940",
   "metadata": {},
   "outputs": [],
   "source": [
    "a=[5,10,15,20,25]\n",
    "arr1=np.array(a)\n",
    "arr1"
   ]
  },
  {
   "cell_type": "markdown",
   "metadata": {},
   "source": [
    "#### 2-Dimensional Array"
   ]
  },
  {
   "cell_type": "code",
   "execution_count": 4,
   "id": "365602d8-62cd-48a1-a59f-05bf84a2da0d",
   "metadata": {},
   "outputs": [],
   "source": [
    "b=[[5,10,15,20,25],[2,4,6,8,10]]\n",
    "arr2=np.array(b)\n",
    "arr2"
   ]
  },
  {
   "cell_type": "markdown",
   "metadata": {},
   "source": [
    "#### 3-Dimensional Array"
   ]
  },
  {
   "cell_type": "code",
   "execution_count": 5,
   "id": "9c2cf9ed-dd36-4ca2-9287-3bb8497ccbaf",
   "metadata": {},
   "outputs": [],
   "source": [
    "c=[[[2,4,6,8,10],[3,6,9,12,15],[5,10,15,20,25]]]\n",
    "arr3=np.array(c)\n",
    "arr3"
   ]
  },
  {
   "cell_type": "markdown",
   "metadata": {},
   "source": [
    "### Step 3: Array Attributes\n",
    "\n",
    "We can inspect various attributes of a NumPy array, such as its type, dimensions, and shape."
   ]
  },
  {
   "cell_type": "markdown",
   "metadata": {},
   "source": [
    "#### Type of Array"
   ]
  },
  {
   "cell_type": "code",
   "execution_count": 6,
   "id": "dcc4cc62-22b2-4958-bf0a-4ef524d99138",
   "metadata": {},
   "outputs": [],
   "source": [
    "type(arr3)"
   ]
  },
  {
   "cell_type": "markdown",
   "metadata": {},
   "source": [
    "#### Number of Dimensions (`ndim`)"
   ]
  },
  {
   "cell_type": "code",
   "execution_count": 7,
   "id": "0dc97cf3-3dc6-4901-9631-189bf43b88a3",
   "metadata": {},
   "outputs": [],
   "source": [
    "np.ndim(arr2)"
   ]
  },
  {
   "cell_type": "markdown",
   "metadata": {},
   "source": [
    "#### Shape of Arrays"
   ]
  },
  {
   "cell_type": "code",
   "execution_count": 9,
   "id": "9ff58b68-1eb1-4e71-a6c3-8a0d51e12605",
   "metadata": {},
   "outputs": [],
   "source": [
    "s1=arr1.shape\n",
    "s2=arr2.shape\n",
    "s3=arr3.shape\n",
    "print(f'Shape of 1D array: {s1}')\n",
    "print(f'Shape of 2D array: {s2}')\n",
    "print(f'Shape of 3D array: {s3}')"
   ]
  },
  {
   "cell_type": "markdown",
   "metadata": {},
   "source": [
    "### Step 4: Array Indexing and Slicing"
   ]
  },
  {
   "cell_type": "code",
   "execution_count": 3,
   "id": "1737de96-0293-4b93-8a3d-dd1396de173e",
   "metadata": {},
   "outputs": [],
   "source": [
    "# Accessing an element in a 1D array\n",
    "arr1[1]"
   ]
  },
  {
   "cell_type": "code",
   "execution_count": 60,
   "id": "c7980f5d-37f1-4254-a0a1-c1818f366f6d",
   "metadata": {},
   "outputs": [],
   "source": [
    "# Accessing an element in a 2D array\n",
    "arr2[1,3]"
   ]
  },
  {
   "cell_type": "markdown",
   "metadata": {},
   "source": [
    "### Step 5: Array Manipulation"
   ]
  },
  {
   "cell_type": "markdown",
   "metadata": {},
   "source": [
    "#### Reshaping an Array"
   ]
  },
  {
   "cell_type": "code",
   "execution_count": 13,
   "id": "a533d7de-126b-46ed-881d-a3e98111f92c",
   "metadata": {},
   "outputs": [],
   "source": [
    "arr2.reshape(5,2)"
   ]
  },
  {
   "cell_type": "markdown",
   "metadata": {},
   "source": [
    "### Step 6: Basic Aggregations"
   ]
  },
  {
   "cell_type": "markdown",
   "metadata": {},
   "source": [
    "#### Minimum Value"
   ]
  },
  {
   "cell_type": "code",
   "execution_count": 14,
   "id": "664ce7d8-40ab-4c31-a0d9-013abfc14354",
   "metadata": {},
   "outputs": [],
   "source": [
    "arr1.min()"
   ]
  },
  {
   "cell_type": "code",
   "execution_count": 15,
   "id": "17b7cfe4-0c6c-4fc2-bc15-c0df50b8230d",
   "metadata": {},
   "outputs": [],
   "source": [
    "arr2.min()"
   ]
  },
  {
   "cell_type": "markdown",
   "metadata": {},
   "source": [
    "#### Sum of Elements"
   ]
  },
  {
   "cell_type": "code",
   "execution_count": 17,
   "id": "9e9884f2-73f8-40c2-b49b-810a64a0029b",
   "metadata": {},
   "outputs": [],
   "source": [
    "arr1.sum()"
   ]
  },
  {
   "cell_type": "code",
   "execution_count": 18,
   "id": "4b45d58f-d194-497a-a2c5-1b24c7d98627",
   "metadata": {},
   "outputs": [],
   "source": [
    "arr2.sum()"
   ]
  },
  {
   "cell_type": "markdown",
   "metadata": {},
   "source": [
    "#### Sum along an Axis\n",
    "\n",
    "`axis=0` sums the elements vertically (down the columns), and `axis=1` sums the elements horizontally (across the rows)."
   ]
  },
  {
   "cell_type": "code",
   "execution_count": 20,
   "id": "a0627b20-4a18-4e17-84ca-22c2f7f8b9a3",
   "metadata": {},
   "outputs": [],
   "source": [
    "arr2.sum(axis=0)"
   ]
  },
  {
   "cell_type": "code",
   "execution_count": 62,
   "id": "e6ed324d-f2d9-4263-b4ef-03400249d890",
   "metadata": {},
   "outputs": [],
   "source": [
    "arr3.sum(axis=1)"
   ]
  }
 ],
 "metadata": {
  "kernelspec": {
   "display_name": "Python [conda env:base] *",
   "language": "python",
   "name": "conda-base-py"
  },
  "language_info": {
   "codemirror_mode": {
    "name": "ipython",
    "version": 3
   },
   "file_extension": ".py",
   "mimetype": "text/x-python",
   "name": "python",
   "nbconvert_exporter": "python",
   "pygments_lexer": "ipython3",
   "version": "3.12.4"
  }
 },
 "nbformat": 4,
 "nbformat_minor": 5
}