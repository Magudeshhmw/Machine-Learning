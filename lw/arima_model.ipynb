{
 "cells": [
  {
   "cell_type": "markdown",
   "metadata": {},
   "source": [
    "# ARIMA Time Series Forecasting\n",
    "**Author:** Magudeshwaran and Senthilkumaran\n",
    "\n",
    "**Goal:** Forecast future sales using a sample time series dataset and an ARIMA model."
   ]
  },
  {
   "cell_type": "markdown",
   "metadata": {},
   "source": [
    "### Step 1: Import Libraries\n",
    "We need `pandas` for data manipulation, `matplotlib` for plotting, and `statsmodels` for the ARIMA model."
   ]
  },
  {
   "cell_type": "code",
   "execution_count": null,
   "metadata": {},
   "outputs": [],
   "source": [
    "import pandas as pd\n",
    "import matplotlib.pyplot as plt\n",
    "from statsmodels.tsa.arima.model import ARIMA"
   ]
  },
  {
   "cell_type": "markdown",
   "metadata": {},
   "source": [
    "### Step 2: Create Time Series Data\n",
    "We will create a sample dataset of monthly sales. We will make sure the 'Month' column is treated as a date and set it as the index of our DataFrame."
   ]
  },
  {
   "cell_type": "code",
   "execution_count": null,
   "metadata": {},
   "outputs": [],
   "source": [
    "data = {\n",
    "    'Month': pd.to_datetime(['2021-01', '2021-02', '2021-03', '2021-04', '2021-05', '2021-06', '2021-07', '2021-08', '2021-09', '2021-10', '2021-11', '2021-12']),
",
    "    'Sales': [100, 120, 130, 150, 160, 170, 180, 200, 210, 220, 230, 250]
",
    "}\n",
    "df = pd.DataFrame(data)\n",
    "df.set_index('Month', inplace=True)\n",
    "df.head()"
   ]
  },
  {
   "cell_type": "markdown",
   "metadata": {},
   "source": [
    "### Step 3: Visualize the Time Series\n",
    "Let's plot our sales data to see the trend over time."
   ]
  },
  {
   "cell_type": "code",
   "execution_count": null,
   "metadata": {},
   "outputs": [],
   "source": [
    "df[['Sales']].plot(figsize=(10, 5))\n",
    "plt.title('Monthly Sales Data')\n",
    "plt.xlabel('Month')\n",
    "plt.ylabel('Sales')\n",
    "plt.grid(True)\n",
    "plt.show()"
   ]
  },
  {
   "cell_type": "markdown",
   "metadata": {},
   "source": [
    "### Step 4: Build and Fit the ARIMA Model\n",
    "We will create an ARIMA model with order `(p=1, d=1, q=2)`. These parameters are chosen for this example, but in a real project, you would use techniques like ACF and PACF plots to determine them.\n",
    "\n",
    "- **p:** The number of lag observations (AR part).\n",
    "- **d:** The number of times the data is differenced (I part).\n",
    "- **q:** The size of the moving average window (MA part)."
   ]
  },
  {
   "cell_type": "code",
   "execution_count": null,
   "metadata": {},
   "outputs": [],
   "source": [
    "model = ARIMA(df['Sales'], order=(1, 1, 2))\n",
    "model_fit = model.fit()\n",
    "print(model_fit.summary())"
   ]
  },
  {
   "cell_type": "markdown",
   "metadata": {},
   "source": [
    "### Step 5: Make a Forecast\n",
    "Now we use our trained model to forecast the sales for the next 6 months."
   ]
  },
  {
   "cell_type": "code",
   "execution_count": null,
   "metadata": {},
   "outputs": [],
   "source": [
    "forecast = model_fit.forecast(steps=6)"
   ]
  },
  {
   "cell_type": "markdown",
   "metadata": {},
   "source": [
    "### Step 6: Visualize the Forecast\n",
    "Finally, let's plot the original data along with the forecasted values to see our model's prediction of the future."
   ]
  },
  {
   "cell_type": "code",
   "execution_count": null,
   "metadata": {},
   "outputs": [],
   "source": [
    "# Create future dates for the forecast\n",
    "future_dates = pd.date_range(start=df.index[-1], periods=7, freq='ME')[1:]\n",
    "\n",
    "# Plot the historical data\n",
    "plt.figure(figsize=(10, 5))\n",
    "plt.plot(df.index, df['Sales'], label='Historical Sales')\n",
    "\n",
    "# Plot the forecast\n",
    "plt.plot(future_dates, forecast, label='Forecasted Sales', color='red')\n",
    "\n",
    "plt.title('Sales Forecast')\n",
    "plt.xlabel('Month')\n",
    "plt.ylabel('Sales')\n",
    "plt.legend()\n",
    "plt.grid(True)\n",
    "plt.show()"
   ]
  }
 ],
 "metadata": {
  "kernelspec": {
   "display_name": "Python 3",
   "language": "python",
   "name": "python3"
  },
  "language_info": {
   "codemirror_mode": {
    "name": "ipython",
    "version": 3
   },
   "file_extension": ".py",
   "mimetype": "text/x-python",
   "name": "python",
   "nbconvert_exporter": "python",
   "pygments_lexer": "ipython3",
   "version": "3.12.4"
  }
 },
 "nbformat": 4,
 "nbformat_minor": 2
}
