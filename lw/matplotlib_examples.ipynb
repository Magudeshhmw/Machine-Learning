{
 "cells": [
  {
   "cell_type": "markdown",
   "metadata": {},
   "source": [
    "# Matplotlib and Seaborn Plotting Examples\n",
    "**Author:** Magudeshwaran and Senthilkumaran\n",
    "\n",
    "**Goal:** To demonstrate various plotting techniques using Matplotlib and Seaborn with the Iris dataset."
   ]
  },
  {
   "cell_type": "markdown",
   "metadata": {},
   "source": [
    "### Step 1: Import Libraries and Load Data\n",
    "\n",
    "We will use the classic Iris dataset from `sklearn.datasets` for these plotting examples."
   ]
  },
  {
   "cell_type": "code",
   "execution_count": null,
   "metadata": {},
   "source": [
    "import matplotlib.pyplot as plt\n",
    "import pandas as pd\n",
    "import seaborn as sns\n",
    "import numpy as np\n",
    "from sklearn.datasets import load_iris\n",
    "from mpl_toolkits.mplot3d import Axes3D\n",
    "\n",
    "# Load the Iris dataset\n",
    "iris = load_iris()\n",
    "df = pd.DataFrame(data=iris.data, columns=iris.feature_names)\n",
    "df['species'] = iris.target"
   ]
  },
  {
   "cell_type": "markdown",
   "metadata": {},
   "source": [
    "### Step 2: Bar Chart\n",
    "\n",
    "Here, we create a bar chart to show the average petal length for each species of iris."
   ]
  },
  {
   "cell_type": "code",
   "execution_count": null,
   "metadata": {},
   "source": [
    "avg_petal_length = df.groupby('species')['petal length (cm)'].mean()\n",
    "plt.bar(iris.target_names, avg_petal_length)\n",
    "plt.grid()\n",
    "plt.title('Average Petal Length by Iris Species')\n",
    "plt.xlabel('Species')\n",
    "plt.ylabel('Average Petal Length (cm)')\n",
    "plt.show()"
   ]
  },
  {
   "cell_type": "markdown",
   "metadata": {},
   "source": [
    "### Step 3: Line Plot\n",
    "\n",
    "A line plot to show the sepal length of the first 50 samples in the dataset."
   ]
  },
  {
   "cell_type": "code",
   "execution_count": null,
   "metadata": {},
   "source": [
    "plt.plot(df.index[:50], df['sepal length (cm)'][:50])\n",
    "plt.title('Sepal Length of First 50 Samples')\n",
    "plt.xlabel('Sample Index')\n",
    "plt.ylabel('Sepal Length (cm)')\n",
    "plt.show()"
   ]
  },
  {
   "cell_type": "markdown",
   "metadata": {},
   "source": [
    "### Step 4: Scatter Plot\n",
    "\n",
    "A scatter plot to show the relationship between sepal length and sepal width."
   ]
  },
  {
   "cell_type": "code",
   "execution_count": null,
   "metadata": {},
   "source": [
    "plt.scatter(df['sepal length (cm)'], df['sepal width (cm)'])\n",
    "plt.title('Sepal Length vs. Sepal Width')\n",
    "plt.xlabel('Sepal Length (cm)')\n",
    "plt.ylabel('Sepal Width (cm)')\n",
    "plt.show()"
   ]
  },
  {
   "cell_type": "markdown",
   "metadata": {},
   "source": [
    "### Step 5: Subplots\n",
    "\n",
    "This example shows how to create multiple plots in a single figure."
   ]
  },
  {
   "cell_type": "code",
   "execution_count": null,
   "metadata": {},
   "source": [
    "fig, (ax1, ax2) = plt.subplots(1, 2, figsize=(12, 5))\n",
    "fig.suptitle('Subplots of Iris Features')\n",
    "\n",
    "ax1.plot(df.index, df['petal length (cm)'])\n",
    "ax1.set_title('Petal Length')\n",
    "\n",
    "ax2.plot(df.index, df['petal width (cm)'])\n",
    "ax2.set_title('Petal Width')\n",
    "\n",
    "plt.show()"
   ]
  },
  {
   "cell_type": "markdown",
   "metadata": {},
   "source": [
    "### Step 6: Joint Plot (Seaborn)\n",
    "\n",
    "A joint plot from Seaborn is excellent for visualizing the relationship between two variables along with their individual distributions."
   ]
  },
  {
   "cell_type": "code",
   "execution_count": null,
   "metadata": {},
   "source": [
    "sns.jointplot(x='petal length (cm)', y='petal width (cm)', data=df)\n",
    "plt.suptitle('Joint Plot of Petal Length and Width', y=1.02)\n",
    "plt.show()"
   ]
  },
  {
   "cell_type": "markdown",
   "metadata": {},
   "source": [
    "### Step 7: 3D Scatter Plot\n",
    "\n",
    "A 3D scatter plot allows us to visualize the relationship between three variables."
   ]
  },
  {
   "cell_type": "code",
   "execution_count": null,
   "metadata": {},
   "source": [
    "fig = plt.figure(figsize=(10, 7))\n",
    "ax = fig.add_subplot(111, projection='3d')\n",
    "\n",
    "scatter = ax.scatter(df['sepal length (cm)'], df['sepal width (cm)'], df['petal length (cm)'], c=df['species'], cmap='viridis')\n",
    "\n",
    "ax.set_title('3D Scatter Plot of Iris Features')\n",
    "ax.set_xlabel('Sepal Length (cm)')\n",
    "ax.set_ylabel('Sepal Width (cm)')\n",
    "ax.set_zlabel('Petal Length (cm)')\n",
    "\n",
    "legend1 = ax.legend(*scatter.legend_elements(), title=\"Species\")\n",
    "ax.add_artist(legend1)\n",
    "\n",
    "plt.show()"
   ]
  }
 ],
 "metadata": {
  "kernelspec": {
   "display_name": "Python [conda env:base] *",
   "language": "python",
   "name": "conda-base-py"
  },
  "language_info": {
   "codemirror_mode": {
    "name": "ipython",
    "version": 3
   },
   "file_extension": ".py",
   "mimetype": "text/x-python",
   "name": "python",
   "nbconvert_exporter": "python",
   "pygments_lexer": "ipython3",
   "version": "3.12.4"
  }
 },
 "nbformat": 4,
 "nbformat_minor": 5
}