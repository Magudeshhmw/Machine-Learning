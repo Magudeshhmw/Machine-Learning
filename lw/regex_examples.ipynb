{
 "cells": [
  {
   "cell_type": "markdown",
   "metadata": {},
   "source": [
    "# Python Regular Expression (Regex) Examples\n",
    "\n",
    "This notebook provides a quick overview of some common regular expression operations in Python using the `re` module."
   ]
  },
  {
   "cell_type": "markdown",
   "metadata": {},
   "source": [
    "### Step 1: Import the `re` Module\n",
    "\n",
    "To work with regular expressions in Python, we first need to import the `re` module."
   ]
  },
  {
   "cell_type": "code",
   "execution_count": 1,
   "id": "0dd36eb5",
   "metadata": {},
   "outputs": [],
   "source": [
    "import re"
   ]
  },
  {
   "cell_type": "markdown",
   "metadata": {},
   "source": [
    "### Step 2: Finding All Matches with `re.compile` and `re.findall`\n",
    "\n",
    "Here, we compile a regular expression pattern to find all alphanumeric characters, as well as the `@` and `&` symbols. The `findall` method returns a list of all matches."
   ]
  },
  {
   "cell_type": "code",
   "execution_count": 2,
   "id": "96d89d7d",
   "metadata": {},
   "outputs": [
    {
     "name": "stdout",
     "output_type": "stream",
     "text": [
      "['Basic', 'qualification', 'is', 'kindness', '123', '@', '&', '&']\n"
     ]
    }
   ],
   "source": [
    "a=\"Basic qualification is kindness 123 @$%^&^&\"\n",
    "b=re.compile(\"[a-zA-Z0-9@&]+\")\n",
    "c=b.findall(a)\n",
    "print(c)"
   ]
  },
  {
   "cell_type": "markdown",
   "metadata": {},
   "source": [
    "### Step 3: Substituting Characters with `re.sub`\n",
    "\n",
    "The `re.sub` function allows you to replace occurrences of a pattern with a specified string. In this example, we replace all whitespace characters (`\\s`) with an asterisk (`*`)."
   ]
  },
  {
   "cell_type": "code",
   "execution_count": 3,
   "id": "274e08d2",
   "metadata": {},
   "outputs": [
    {
     "data": {
      "text/plain": [
       "'Basic*qualification*is*kindness*123*@$%^&^&'"
      ]
     },
     "execution_count": 3,
     "metadata": {},
     "output_type": "execute_result"
    }
   ],
   "source": [
    "h=re.sub('\\s','*',a)\n",
    "h"
   ]
  },
  {
   "cell_type": "markdown",
   "metadata": {},
   "source": [
    "### Step 4: Searching for a Pattern with `re.search`\n",
    "\n",
    "The `re.search` function finds the first occurrence of a pattern in a string and returns a match object. The match object contains information about the match, such as the starting and ending positions."
   ]
  },
  {
   "cell_type": "code",
   "execution_count": 4,
   "id": "413295e1",
   "metadata": {},
   "outputs": [
    {
     "data": {
      "text/plain": [
       "<re.Match object; span=(20, 22), match='is'>"
      ]
     },
     "execution_count": 4,
     "metadata": {},
     "output_type": "execute_result"
    }
   ],
   "source": [
    "l=re.search('is',a)\n",
    "l"
   ]
  },
  {
   "cell_type": "markdown",
   "metadata": {},
   "source": [
    "### Step 5: Handling No Matches\n",
    "\n",
    "If `re.findall` doesn't find any matches for the given pattern, it returns an empty list."
   ]
  },
  {
   "cell_type": "code",
   "execution_count": 5,
   "id": "6408e53d",
   "metadata": {},
   "outputs": [
    {
     "data": {
      "text/plain": [
       "[]"
      ]
     },
     "execution_count": 5,
     "metadata": {},
     "output_type": "execute_result"
    }
   ],
   "source": [
    "k=re.findall('xy',a)\n",
    "k"
   ]
  }
 ],
 "metadata": {
  "kernelspec": {
   "display_name": "Python 3 (ipykernel)",
   "language": "python",
   "name": "python3"
  },
  "language_info": {
   "codemirror_mode": {
    "name": "ipython",
    "version": 3
   },
   "file_extension": ".py",
   "mimetype": "text/x-python",
   "name": "python",
   "nbconvert_exporter": "python",
   "pygments_lexer": "ipython3",
   "version": "3.11.4"
  }
 },
 "nbformat": 4,
 "nbformat_minor": 5
}