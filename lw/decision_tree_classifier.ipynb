{
 "cells": [
  {
   "cell_type": "markdown",
   "metadata": {},
   "source": [
    "# Decision Tree for Device Ownership Prediction\n",
    "**Author:** Magudeshwaran and Senthilkumaran\n",
    "\n",
    "**Goal:** Build a Decision Tree model to predict if someone owns a tablet based on their age and other device ownership."
   ]
  },
  {
   "cell_type": "markdown",
   "metadata": {},
   "source": [
    "### Step 1: Import Libraries\n",
    "We need `pandas` for data, `matplotlib` for plotting, and `sklearn.tree` for our Decision Tree model and visualization tools."
   ]
  },
  {
   "cell_type": "code",
   "execution_count": null,
   "metadata": {},
   "outputs": [],
   "source": [
    "import pandas as pd\n",
    "import matplotlib.pyplot as plt\n",
    "from sklearn.tree import DecisionTreeClassifier, export_text, plot_tree"
   ]
  },
  {
   "cell_type": "markdown",
   "metadata": {},
   "source": [
    "### Step 2: Create the Dataset\n",
    "We'll use a small, sample dataset. Each row represents a person, and the columns show their age and if they own a smartphone, laptop, or tablet (1 for Yes, 0 for No)."
   ]
  },
  {
   "cell_type": "code",
   "execution_count": null,
   "metadata": {},
   "outputs": [],
   "source": [
    "data = {\n",
    "    'Age': [18, 22, 26, 30, 34, 38, 42],\n",
    "    'Owns Smartphone': [1, 1, 1, 1, 1, 1, 1],\n",
    "    'Owns Laptop': [1, 1, 1, 0, 1, 0, 1],\n",
    "    'Owns Tablet': [0, 1, 0, 1, 0, 1, 0]\n",
    "}\n",
    "df = pd.DataFrame(data)\n",
    "df.head()"
   ]
  },
  {
   "cell_type": "markdown",
   "metadata": {},
   "source": [
    "### Step 3: Prepare Data (Features and Target)\n",
    "We define our **features (X)**, which are the inputs to our model, and our **target (y)**, which is what we want to predict.\n",
    "- **Features (X):** `Age`, `Owns Smartphone`, `Owns Laptop`\n",
    "- **Target (y):** `Owns Tablet`"
   ]
  },
  {
   "cell_type": "code",
   "execution_count": null,
   "metadata": {},
   "outputs": [],
   "source": [
    "X = df[['Age', 'Owns Smartphone', 'Owns Laptop']]\n",
    "y = df['Owns Tablet']"
   ]
  },
  {
   "cell_type": "markdown",
   "metadata": {},
   "source": [
    "### Step 4: Train the Decision Tree Model\n",
    "We create a `DecisionTreeClassifier` and train it using our features (X) and target (y). The `random_state` ensures our results are the same every time."
   ]
  },
  {
   "cell_type": "code",
   "execution_count": null,
   "metadata": {},
   "outputs": [],
   "source": [
    "model = DecisionTreeClassifier(random_state=42)\n",
    "model.fit(X, y)"
   ]
  },
  {
   "cell_type": "markdown",
   "metadata": {},
   "source": [
    "### Step 5: Visualize the Decision Tree (Text-based)\n",
    "We can print a text representation of the decision tree. This shows the rules the model learned to make predictions."
   ]
  },
  {
   "cell_type": "code",
   "execution_count": null,
   "metadata": {},
   "outputs": [],
   "source": [
    "tree_rules = export_text(model, feature_names=list(X.columns))\n",
    "print(\"Decision Tree Rules:\")\n",
    "print(tree_rules)"
   ]
  },
  {
   "cell_type": "markdown",
   "metadata": {},
   "source": [
    "### Step 6: Visualize the Decision Tree (Graphical)\n",
    "For a clearer view, we can plot the decision tree graphically. Each box represents a decision node or a leaf node."
   ]
  },
  {
   "cell_type": "code",
   "execution_count": null,
   "metadata": {},
   "outputs": [],
   "source": [
    "plt.figure(figsize=(12, 8))\n",
    "plot_tree(model, feature_names=list(X.columns), class_names=['No Tablet', 'Owns Tablet'], filled=True, rounded=True)\n",
    "plt.title('Decision Tree Visualization')\n",
    "plt.show()"
   ]
  }
 ],
 "metadata": {
  "kernelspec": {
   "display_name": "Python 3",
   "language": "python",
   "name": "python3"
  },
  "language_info": {
   "codemirror_mode": {
    "name": "ipython",
    "version": 3
   },
   "file_extension": ".py",
   "mimetype": "text/x-python",
   "name": "python",
   "nbconvert_exporter": "python",
   "pygments_lexer": "ipython3",
   "version": "3.12.4"
  }
 },
 "nbformat": 4,
 "nbformat_minor": 2
}
