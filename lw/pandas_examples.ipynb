{
 "cells": [
  {
   "cell_type": "markdown",
   "metadata": {},
   "source": [
    "# Pandas Examples\n",
    "**Author:** Magudeshwaran and Senthilkumaran\n",
    "\n",
    "**Goal:** To demonstrate fundamental operations in the Pandas library, focusing on DataFrame creation and manipulation."
   ]
  },
  {
   "cell_type": "markdown",
   "metadata": {},
   "source": [
    "### Step 1: Import Pandas"
   ]
  },
  {
   "cell_type": "code",
   "execution_count": 1,
   "id": "6797f095-5b49-43f6-b46e-cd7195da26df",
   "metadata": {},
   "outputs": [],
   "source": [
    "import pandas as pd"
   ]
  },
  {
   "cell_type": "markdown",
   "metadata": {},
   "source": [
    "### Step 2: Creating a DataFrame from a Dictionary\n",
    "\n",
    "A Pandas DataFrame can be easily created from a Python dictionary."
   ]
  },
  {
   "cell_type": "code",
   "execution_count": 8,
   "id": "74da8aef-bc3e-4275-a7e1-9b3745b64f8e",
   "metadata": {},
   "outputs": [],
   "source": [
    "sample={'car':['bmw','audi','tata','ford'],'color':['red','green','blue','orange'],'price':['5l','5l','5l','5l']}\n",
    "sample"
   ]
  },
  {
   "cell_type": "code",
   "execution_count": 9,
   "id": "f1c85436-d33a-4fe9-9ab5-709b419777ed",
   "metadata": {},
   "outputs": [],
   "source": [
    "data=pd.DataFrame(sample)\n",
    "data"
   ]
  },
  {
   "cell_type": "markdown",
   "metadata": {},
   "source": [
    "### Step 3: Generating Random Sample Data\n",
    "\n",
    "This example shows how to generate a list of random data entries from a predefined dictionary."
   ]
  },
  {
   "cell_type": "code",
   "execution_count": 10,
   "id": "916d3f70-a585-4808-9e82-2ece2444aad7",
   "metadata": {},
   "outputs": [],
   "source": [
    "import random\n",
    "\n",
    "data_source = {'car': ['bmw', 'audi', 'tata', 'ford'],\n",
    "        'color': ['red', 'green', 'blue', 'orange'],\n",
    "        'price': ['5l', '5l', '5l', '5l']}\n",
    "\n",
    "generated_data = []\n",
    "\n",
    "for _ in range(10):\n",
    "    entry = {key: random.choice(value) for key, value in data_source.items()}\n",
    "    generated_data.append(entry)\n",
    "\n",
    "# Create a DataFrame from the generated data\n",
    "random_df = pd.DataFrame(generated_data)\n",
    "random_df"
   ]
  }
 ],
 "metadata": {
  "kernelspec": {
   "display_name": "Python [conda env:base] *",
   "language": "python",
   "name": "conda-base-py"
  },
  "language_info": {
   "codemirror_mode": {
    "name": "ipython",
    "version": 3
   },
   "file_extension": ".py",
   "mimetype": "text/x-python",
   "name": "python",
   "nbconvert_exporter": "python",
   "pygments_lexer": "ipython3",
   "version": "3.12.4"
  }
 },
 "nbformat": 4,
 "nbformat_minor": 5
}