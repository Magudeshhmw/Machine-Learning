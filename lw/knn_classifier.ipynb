{
 "cells": [
  {
   "cell_type": "markdown",
   "metadata": {},
   "source": [
    "# K-Nearest Neighbors (KNN) for Weather Prediction\n",
    "**Author:** Magudeshwaran and Senthilkumaran\n",
    "\n",
    "**Goal:** Use the K-Nearest Neighbors (KNN) algorithm to predict weather conditions based on various meteorological factors."
   ]
  },
  {
   "cell_type": "markdown",
   "metadata": {},
   "source": [
    "### Step 1: Import Libraries\n",
    "We need `pandas` for data, `numpy` for numbers, `sklearn.preprocessing` for scaling, `sklearn.model_selection` for splitting data, and `sklearn.neighbors` for the KNN model."
   ]
  },
  {
   "cell_type": "code",
   "execution_count": null,
   "metadata": {},
   "outputs": [],
   "source": [
    "import numpy as np\n",
    "import pandas as pd\n",
    "from sklearn.preprocessing import StandardScaler\n",
    "from sklearn.model_selection import train_test_split\n",
    "from sklearn.neighbors import KNeighborsClassifier\n",
    "from sklearn.metrics import accuracy_score, classification_report"
   ]
  },
  {
   "cell_type": "markdown",
   "metadata": {},
   "source": [
    "### Step 2: Create the Dataset\n",
    "We'll use a small, sample dataset representing daily weather conditions. The `weather_condition` is our target, encoded as numbers (e.g., 1 for Sunny, 2 for Rainy, 3 for Cloudy)."
   ]
  },
  {
   "cell_type": "code",
   "execution_count": null,
   "metadata": {},
   "outputs": [],
   "source": [
    "data = {\n",
    "    'day': ['Monday', 'Tuesday', 'Wednesday', 'Thursday', 'Friday', 'Saturday'],\n",
    "    'temperature': [25, 30, 28, 27, 26, 29],\n",
    "    'humidity': [0.6, 0.55, 0.7, 0.65, 0.6, 0.55],\n",
    "    'wind_speed': [10, 12, 8, 15, 11, 9],\n",
    "    'precipitation': [0.0, 5.0, 0.0, 2.0, 0.0, 0.5],\n",
    "    'weather_condition': [1, 2, 1, 3, 2, 1]  # 1: Sunny, 2: Rainy, 3: Cloudy\n",
    "}\n",
    "df = pd.DataFrame(data)\n",
    "df.head()"
   ]
  },
  {
   "cell_type": "markdown",
   "metadata": {},
   "source": [
    "### Step 3: Prepare Data (Features and Target)\n",
    "We define our **features (X)** (inputs) and our **target (y)** (what we want to predict).\n",
    "- **Features (X):** `temperature`, `humidity`, `wind_speed`, `precipitation`\n",
    "- **Target (y):** `weather_condition`"
   ]
  },
  {
   "cell_type": "code",
   "execution_count": null,
   "metadata": {},
   "outputs": [],
   "source": [
    "X = df[[\'temperature\', \'humidity\', \'wind_speed\', \'precipitation\']汉\n",
    "y = df[\'weather_condition\']"
   ]
  },
  {
   "cell_type": "markdown",
   "metadata": {},
   "source": [
    "### Step 4: Scale the Features\n",
    "KNN is sensitive to the scale of features. We use `StandardScaler` to make sure all features contribute equally to distance calculations."
   ]
  },
  {
   "cell_type": "code",
   "execution_count": null,
   "metadata": {},
   "outputs": [],
   "source": [
    "scaler = StandardScaler()\n",
    "X_scaled = scaler.fit_transform(X)"
   ]
  },
  {
   "cell_type": "markdown",
   "metadata": {},
   "source": [
    "### Step 5: Split Data into Training and Testing Sets\n",
    "We split our data to train the model on one part and test its performance on unseen data."
   ]
  },
  {
   "cell_type": "code",
   "execution_count": null,
   "metadata": {},
   "outputs": [],
   "source": [
    "X_train, X_test, y_train, y_test = train_test_split(X_scaled, y, test_size=0.2, random_state=42)"
   ]
  },
  {
   "cell_type": "markdown",
   "metadata": {},
   "source": [
    "### Step 6: Train the KNN Model\n",
    "We create a `KNeighborsClassifier` model. `n_neighbors=3` means the model will look at the 3 closest data points to make a prediction."
   ]
  },
  {
   "cell_type": "code",
   "execution_count": null,
   "metadata": {},
   "outputs": [],
   "source": [
    "knn = KNeighborsClassifier(n_neighbors=3)\n",
    "knn.fit(X_train, y_train)"
   ]
  },
  {
   "cell_type": "markdown",
   "metadata": {},
   "source": [
    "### Step 7: Make Predictions\n",
    "Now, we use our trained KNN model to predict the weather conditions for the test data."
   ]
  },
  {
   "cell_type": "code",
   "execution_count": null,
   "metadata": {},
   "outputs": [],
   "source": [
    "y_pred = knn.predict(X_test)"
   ]
  },
  {
   "cell_type": "markdown",
   "metadata": {},
   "source": [
    "### Step 8: Evaluate the Model\n",
    "We check the model's accuracy and get a detailed classification report to understand its performance."
   ]
  },
  {
   "cell_type": "code",
   "execution_count": null,
   "metadata": {},
   "outputs": [],
   "source": [
    "accuracy = accuracy_score(y_test, y_pred)\n",
    "print(f\"Accuracy: {accuracy:.2f}\")\n",
    "print(\"\nClassification Report:\")\n",
    "print(classification_report(y_test, y_pred))"
   ]
  },
  {
   "cell_type": "markdown",
   "metadata": {},
   "source": [
    "### Step 9: Interpret Predictions\n",
    "Let's see the actual predictions and map them back to meaningful weather conditions."
   ]
  },
  {
   "cell_type": "code",
   "execution_count": null,
   "metadata": {},
   "outputs": [],
   "source": [
    "weather_map = {1: \'Sunny\', 2: \'Rainy\', 3: \'Cloudy\'}\n",
    "predicted_conditions = [weather_map[p] for p in y_pred]\n",
    "print(\"Predicted weather conditions for test data:\", predicted_conditions)"
   ]
  }
 ],
 "metadata": {
  "kernelspec": {
   "display_name": "Python 3",
   "language": "python",
   "name": "python3"
  },
  "language_info": {
   "codemirror_mode": {
    "name": "ipython",
    "version": 3
   },
   "file_extension": ".py",
   "mimetype": "text/x-python",
   "name": "python",
   "nbconvert_exporter": "python",
   "pygments_lexer": "ipython3",
   "version": "3.12.4"
  }
 },
 "nbformat": 4,
 "nbformat_minor": 2
}
