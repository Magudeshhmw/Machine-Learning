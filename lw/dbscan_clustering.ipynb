{
 "cells": [
  {
   "cell_type": "markdown",
   "metadata": {},
   "source": [
    "# DBSCAN Clustering on Iris Dataset\n",
    "**Author:** Magudeshwaran and Senthilkumaran\n",
    "\n",
    "**Goal:** Apply the DBSCAN clustering algorithm to group similar data points in the Iris dataset."
   ]
  },
  {
   "cell_type": "markdown",
   "metadata": {},
   "source": [
    "### Step 1: Import Libraries\n",
    "We need `pandas` for data, `numpy` for numbers, `matplotlib` for plotting, and `sklearn` for DBSCAN and data preprocessing."
   ]
  },
  {
   "cell_type": "code",
   "execution_count": null,
   "metadata": {},
   "outputs": [],
   "source": [
    "import pandas as pd\n",
    "import numpy as np\n",
    "import matplotlib.pyplot as plt\n",
    "from sklearn.impute import SimpleImputer\n",
    "from sklearn.cluster import DBSCAN"
   ]
  },
  {
   "cell_type": "markdown",
   "metadata": {},
   "source": [
    "### Step 2: Load the Data\n",
    "We load the famous Iris dataset from a URL. This dataset contains measurements of iris flowers."
   ]
  },
  {
   "cell_type": "code",
   "execution_count": null,
   "metadata": {},
   "outputs": [],
   "source": [
    "url = 'https://raw.githubusercontent.com/mwaskom/seaborn-data/master/iris.csv'\n",
    "df = pd.read_csv(url)\n",
    "df.head()"
   ]
  },
  {
   "cell_type": "markdown",
   "metadata": {},
   "source": [
    "### Step 3: Prepare the Data\n",
    "We select two features (`petal_length` and `petal_width`) for clustering. We also use an imputer, which can help handle any missing values, though the Iris dataset is usually clean."
   ]
  },
  {
   "cell_type": "code",
   "execution_count": null,
   "metadata": {},
   "outputs": [],
   "source": [
    "X = df[['petal_length', 'petal_width']].values\n",
    "\n",
    "# Handle potential missing values (though Iris is usually clean)\n",
    "imputer = SimpleImputer(strategy='mean')\n",
    "X = imputer.fit_transform(X)"
   ]
  },
  {
   "cell_type": "markdown",
   "metadata": {},
   "source": [
    "### Step 4: Apply DBSCAN Clustering\n",
    "DBSCAN (Density-Based Spatial Clustering of Applications with Noise) groups together data points that are closely packed together, marking as outliers those points that lie alone in low-density regions.\n",
    "\n",
    "- **`eps`:** The maximum distance between two samples for one to be considered as in the neighborhood of the other.\n",
    "- **`min_samples`:** The number of samples (or total weight) in a neighborhood for a point to be considered as a core point. This includes the point itself."
   ]
  },
  {
   "cell_type": "code",
   "execution_count": null,
   "metadata": {},
   "outputs": [],
   "source": [
    "# Initialize and fit DBSCAN model\n",
    "dbscan = DBSCAN(eps=0.35, min_samples=30) \n",
    "clusters = dbscan.fit_predict(X)"
   ]
  },
  {
   "cell_type": "markdown",
   "metadata": {},
   "source": [
    "### Step 5: Visualize the Clusters\n",
    "We plot the data points, colored by their assigned cluster. Points labeled `-1` are considered noise (outliers) by DBSCAN."
   ]
  },
  {
   "cell_type": "code",
   "execution_count": null,
   "metadata": {},
   "outputs": [],
   "source": [
    "plt.figure(figsize=(8, 6))\n",
    "plt.scatter(X[:, 0], X[:, 1], c=clusters, cmap='viridis', marker='o', s=50, edgecolor='k')\n",
    "plt.title('DBSCAN Clustering of Iris Petal Data')\n",
    "plt.xlabel('Petal Length')\n",
    "plt.ylabel('Petal Width')\n",
    "plt.colorbar(label='Cluster Label (-1 for Noise)')\n",
    "plt.grid(True)\n",
    "plt.show()"
   ]
  }
 ],
 "metadata": {
  "kernelspec": {
   "display_name": "Python 3",
   "language": "python",
   "name": "python3"
  },
  "language_info": {
   "codemirror_mode": {
    "name": "ipython",
    "version": 3
   },
   "file_extension": ".py",
   "mimetype": "text/x-python",
   "name": "python",
   "nbconvert_exporter": "python",
   "pygments_lexer": "ipython3",
   "version": "3.12.4"
  }
 },
 "nbformat": 4,
 "nbformat_minor": 2
}