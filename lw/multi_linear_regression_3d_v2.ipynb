{
 "cells": [
  {
   "cell_type": "markdown",
   "metadata": {},
   "source": [
    "# Multiple Linear Regression with 3D Visualization\n",
    "**Author:** Magudeshwaran and Senthilkumaran\n",
    "\n",
    "**Goal:** Build a Multiple Linear Regression model to predict house prices using two features and visualize the results in 3D."
   ]
  },
  {
   "cell_type": "markdown",
   "metadata": {},
   "source": [
    "### Step 1: Import Libraries\n",
    "We need `pandas` for data, `numpy` for numbers, `matplotlib` for plotting (including 3D), and `sklearn` for linear regression and data splitting."
   ]
  },
  {
   "cell_type": "code",
   "execution_count": null,
   "metadata": {},
   "outputs": [],
   "source": [
    "import numpy as np\n",
    "import pandas as pd\n",
    "import matplotlib.pyplot as plt\n",
    "from sklearn.model_selection import train_test_split\n",
    "from sklearn.linear_model import LinearRegression\n",
    "from mpl_toolkits.mplot3d import Axes3D # For 3D plotting"
   ]
  },
  {
   "cell_type": "markdown",
   "metadata": {},
   "source": [
    "### Step 2: Load the Data\n",
    "We load the Boston Housing dataset from a public URL. This dataset is commonly used for regression tasks."
   ]
  },
  {
   "cell_type": "code",
   "execution_count": null,
   "metadata": {},
   "outputs": [],
   "source": [
    "url = 'https://raw.githubusercontent.com/selva86/datasets/master/BostonHousing.csv'\n",
    "df = pd.read_csv(url)\n",
    "df.head()"
   ]
  },
  {
   "cell_type": "markdown",
   "metadata": {},
   "source": [
    "### Step 3: Prepare Data (Features and Target)\n",
    "We select two features for our multiple linear regression model and one target variable.\n",
    "- **Features (X):** `rm` (average number of rooms) and `lstat` (percentage of lower status population).\n",
    "- **Target (y):** `medv` (median value of owner-occupied homes)."
   ]
  },
  {
   "cell_type": "code",
   "execution_count": null,
   "metadata": {},
   "outputs": [],
   "source": [
    "X = df[['rm', 'lstat']]\n",
    "y = df['medv']"
   ]
  },
  {
   "cell_type": "markdown",
   "metadata": {},
   "source": [
    "### Step 4: Split the Data\n",
    "We split our data into training and testing sets to train the model and evaluate its performance on unseen data."
   ]
  },
  {
   "cell_type": "code",
   "execution_count": null,
   "metadata": {},
   "outputs": [],
   "source": [
    "X_train, X_test, y_train, y_test = train_test_split(X, y, test_size=0.25, random_state=42)"
   ]
  },
  {
   "cell_type": "markdown",
   "metadata": {},
   "source": [
    "### Step 5: Train the Multiple Linear Regression Model\n",
    "We create a `LinearRegression` model and train it using our training data."
   ]
  },
  {
   "cell_type": "code",
   "execution_count": null,
   "metadata": {},
   "outputs": [],
   "source": [
    "model = LinearRegression()\n",
    "model.fit(X_train, y_train)"
   ]
  },
  {
   "cell_type": "markdown",
   "metadata": {},
   "source": [
    "### Step 6: Visualize the 3D Regression Plane\n",
    "Since we have two features and one target, we can visualize the relationship in 3D. The model learns a plane that best fits the data points."
   ]
  },
  {
   "cell_type": "code",
   "execution_count": null,
   "metadata": {},
   "outputs": [],
   "source": [
    "# Create a meshgrid for the regression plane\n",
    "x_surf, y_surf = np.meshgrid(np.linspace(X['rm'].min(), X['rm'].max(), 100),\n",
    "                             np.linspace(X['lstat'].min(), X['lstat'].max(), 100))\n",
    "z_surf = model.predict(pd.DataFrame({'rm': x_surf.ravel(), 'lstat': y_surf.ravel()}))\n",
    "z_surf = z_surf.reshape(x_surf.shape)\n",
    "\n",
    "# Create the 3D plot\n",
    "fig = plt.figure(figsize=(12, 8))\n",
    "ax = fig.add_subplot(111, projection='3d')\n",
    "\n",
    "# Plot the training data points\n",
    "ax.scatter(X_train['rm'], X_train['lstat'], y_train, color='blue', label='Actual Training Data', alpha=0.6)\n",
    "\n",
    "# Plot the regression plane\n",
    "ax.plot_surface(x_surf, y_surf, z_surf, color='red', alpha=0.3, label='Regression Plane')\n",
    "\n",
    "# Set labels and title\n",
    "ax.set_xlabel('Number of Rooms (rm)')\n",
    "ax.set_ylabel('Lower Status Population (lstat)')\n",
    "ax.set_zlabel('Median House Value (medv)')\n",
    "ax.set_title('Multiple Linear Regression: House Value Prediction')\n",
    "\n",
    "# Add a dummy legend entry for the surface plot\n",
    "from matplotlib.lines import Line2D\n",
    "custom_lines = [Line2D([0], [0], color='blue', lw=4),\n",
    "                Line2D([0], [0], color='red', lw=4, alpha=0.3)]\n",
    "ax.legend(custom_lines, ['Actual Training Data', 'Regression Plane'])\n",
    "\n",
    "plt.show()"
   ]
  }
 ],
 "metadata": {
  "kernelspec": {
   "display_name": "Python 3",
   "language": "python",
   "name": "python3"
  },
  "language_info": {
   "codemirror_mode": {
    "name": "ipython",
    "version": 3
   },
   "file_extension": ".py",
   "mimetype": "text/x-python",
   "name": "python",
   "nbconvert_exporter": "python",
   "pygments_lexer": "ipython3",
   "version": "3.12.4"
  }
 },
 "nbformat": 4,
 "nbformat_minor": 2
}