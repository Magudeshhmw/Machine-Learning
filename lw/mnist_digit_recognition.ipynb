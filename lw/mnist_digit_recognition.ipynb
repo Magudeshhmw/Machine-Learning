{
 "cells": [
  {
   "cell_type": "markdown",
   "metadata": {},
   "source": [
    "# MNIST Digit Recognition with Random Forest\n",
    "**Author:** Magudeshwaran and Senthilkumaran\n",
    "\n",
    "**Goal:** To build a Random Forest classifier to predict handwritten digits from the MNIST dataset."
   ]
  },
  {
   "cell_type": "markdown",
   "metadata": {},
   "source": [
    "### Step 1: Import Libraries and Load Data\n",
    "\n",
    "We'll start by importing the necessary libraries and loading the MNIST dataset from `tensorflow.keras.datasets`."
   ]
  },
  {
   "cell_type": "code",
   "execution_count": 11,
   "id": "d7f908c9-c1c5-456a-a0c2-2a15bc14a61a",
   "metadata": {},
   "outputs": [],
   "source": [
    "import numpy as np\n",
    "import pandas as pd\n",
    "from tensorflow.keras.datasets import mnist\n",
    "\n",
    "# Load the MNIST dataset\n",
    "(train_images, train_labels), (test_images, test_labels) = mnist.load_data()\n",
    "\n",
    "# Check the shape of the data\n",
    "print(f'Train images shape: {train_images.shape}')\n",
    "print(f'Train labels shape: {train_labels.shape}')"
   ]
  },
  {
   "cell_type": "markdown",
   "metadata": {},
   "source": [
    "### Step 2: Preprocess the Data\n",
    "\n",
    "The images are 28x28 pixel matrices. We need to flatten them into 1D arrays (of size 784) and normalize the pixel values to be between 0 and 1. We'll also create pandas DataFrames for easier manipulation."
   ]
  },
  {
   "cell_type": "code",
   "execution_count": 12,
   "id": "f21b5818-b8be-42cf-90c6-55e49f960f11",
   "metadata": {},
   "outputs": [],
   "source": [
    "# Flatten the images and normalize pixel values\n",
    "train_images = train_images.reshape((60000, 28 * 28)).astype('float32') / 255\n",
    "test_images = test_images.reshape((10000, 28 * 28)).astype('float32') / 255\n",
    "\n",
    "# Convert to DataFrame for easier handling\n",
    "train_df = pd.DataFrame(train_images)\n",
    "train_df['label'] = train_labels\n",
    "\n",
    "test_df = pd.DataFrame(test_images)\n",
    "test_df['label'] = test_labels"
   ]
  },
  {
   "cell_type": "markdown",
   "metadata": {},
   "source": [
    "### Step 3: Train the Random Forest Classifier\n",
    "\n",
    "Now, we'll train a `RandomForestClassifier` on the training data."
   ]
  },
  {
   "cell_type": "code",
   "execution_count": 13,
   "id": "09983130-9dd7-40e1-bdd5-88696671492d",
   "metadata": {},
   "outputs": [],
   "source": [
    "from sklearn.ensemble import RandomForestClassifier\n",
    "from sklearn.metrics import accuracy_score\n",
    "\n",
    "# Initialize and train the Random Forest Classifier\n",
    "rf_classifier = RandomForestClassifier(n_estimators=100)\n",
    "rf_classifier.fit(train_df.drop('label', axis=1), train_df['label'])"
   ]
  },
  {
   "cell_type": "markdown",
   "metadata": {},
   "source": [
    "### Step 4: Evaluate the Model\n",
    "\n",
    "Let's evaluate the accuracy of our model on the test data."
   ]
  },
  {
   "cell_type": "code",
   "execution_count": 14,
   "id": "1cee56ac-a24b-4a5f-86ec-054be11edaa3",
   "metadata": {},
   "outputs": [],
   "source": [
    "# Make predictions on test data\n",
    "predictions = rf_classifier.predict(test_df.drop('label', axis=1))\n",
    "\n",
    "# Calculate accuracy\n",
    "accuracy = accuracy_score(test_df['label'], predictions)\n",
    "print(f'Accuracy: {accuracy * 100:.2f}%')"
   ]
  },
  {
   "cell_type": "markdown",
   "metadata": {},
   "source": [
    "### Step 5: Predict on a Custom Image\n",
    "\n",
    "This function allows you to provide your own image and have the model predict the digit."
   ]
  },
  {
   "cell_type": "code",
   "execution_count": 21,
   "id": "c0129f07-1bcf-49a3-a75a-d6dfc0e5d34b",
   "metadata": {},
   "outputs": [],
   "source": [
    "from PIL import Image\n",
    "\n",
    "def predict_image(image_path):\n",
    "    # Load and preprocess image\n",
    "    img = Image.open(image_path).convert('L')  # Convert to grayscale\n",
    "    img = img.resize((28, 28))  # Resize to 28x28 pixels\n",
    "    img_array = np.array(img).reshape(1, -1).astype('float32') / 255  # Flatten and normalize\n",
    "    \n",
    "    # Make prediction\n",
    "    prediction = rf_classifier.predict(img_array)\n",
    "    return prediction[0]\n",
    "\n",
    "# Example usage:\n",
    "# image_path = 'image.png'  # Replace with your image path\n",
    "# predicted_digit = predict_image(image_path)\n",
    "# print(f'Predicted digit: {predicted_digit}')"
   ]
  }
 ],
 "metadata": {
  "kernelspec": {
   "display_name": "Python [conda env:base] *",
   "language": "python",
   "name": "conda-base-py"
  },
  "language_info": {
   "codemirror_mode": {
    "name": "ipython",
    "version": 3
   },
   "file_extension": ".py",
   "mimetype": "text/x-python",
   "name": "python",
   "nbconvert_exporter": "python",
   "pygments_lexer": "ipython3",
   "version": "3.12.4"
  }
 },
 "nbformat": 4,
 "nbformat_minor": 5
}