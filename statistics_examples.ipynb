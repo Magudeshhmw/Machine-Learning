{
 "cells": [
  {
   "cell_type": "markdown",
   "metadata": {},
   "source": [
    "# Basic Statistics in Python\n",
    "**Author:** Magudeshwaran and Senthilkumaran\n",
    "\n",
    "**Goal:** To demonstrate how to calculate basic statistical measures like mean, median, mode, variance, and standard deviation in Python using the `statistics` and `numpy` libraries."
   ]
  },
  {
   "cell_type": "markdown",
   "metadata": {},
   "source": [
    "### Step 1: Calculating the Mean\n",
    "\n",
    "The mean is the average of the numbers. We can calculate it using both the `statistics` module and `numpy`."
   ]
  },
  {
   "cell_type": "code",
   "execution_count": 1,
   "id": "a6ae39d6-40cb-4fa6-8b38-ef68461f0d31",
   "metadata": {},
   "outputs": [],
   "source": [
    "from statistics import mean\n",
    "import numpy as np\n",
    "\n",
    "a=[11,22,33,44,55,66,77,88,99]\n",
    "\n",
    "# Using the statistics module\n",
    "mean1=mean(a)\n",
    "print(f'Mean (statistics): {mean1}')\n",
    "\n",
    "# Using numpy\n",
    "mean2=np.mean(a)\n",
    "print(f'Mean (numpy): {mean2}')"
   ]
  },
  {
   "cell_type": "markdown",
   "metadata": {},
   "source": [
    "### Step 2: Calculating the Median\n",
    "\n",
    "The median is the middle value in a sorted list of numbers."
   ]
  },
  {
   "cell_type": "code",
   "execution_count": 2,
   "id": "52d5de27-92c8-43fe-82fa-9edf20522285",
   "metadata": {},
   "outputs": [],
   "source": [
    "from statistics import median\n",
    "\n",
    "b=[11,66,77,88,99,22,33,44,55]\n",
    "\n",
    "# Using the statistics module\n",
    "median1=median(b)\n",
    "print(f'Median (statistics): {median1}')\n",
    "\n",
    "# Using numpy\n",
    "median2=np.median(b)\n",
    "print(f'Median (numpy): {median2}')"
   ]
  },
  {
   "cell_type": "markdown",
   "metadata": {},
   "source": [
    "### Step 3: Calculating the Mode\n",
    "\n",
    "The mode is the value that appears most frequently in a data set."
   ]
  },
  {
   "cell_type": "code",
   "execution_count": 3,
   "id": "4ab50296-29e8-43bd-b54f-1b2109cc9818",
   "metadata": {},
   "outputs": [],
   "source": [
    "from statistics import mode\n",
    "\n",
    "c=[11,66,88,88,99,11,33,44,11]\n",
    "\n",
    "mode1=mode(c)\n",
    "print(f'Mode (statistics): {mode1}')"
   ]
  },
  {
   "cell_type": "markdown",
   "metadata": {},
   "source": [
    "### Step 4: Calculating Percentiles\n",
    "\n",
    "A percentile is a measure used in statistics indicating the value below which a given percentage of observations in a group of observations falls."
   ]
  },
  {
   "cell_type": "code",
   "execution_count": 10,
   "id": "7650f337-4eb0-4a73-8c2a-27aa551c2552",
   "metadata": {},
   "outputs": [],
   "source": [
    "per25=np.percentile(a,25)\n",
    "print(f'25th Percentile: {per25}')"
   ]
  },
  {
   "cell_type": "code",
   "execution_count": 11,
   "id": "c367fb43-37df-48a4-950a-3b00aaaaf910",
   "metadata": {},
   "outputs": [],
   "source": [
    "per50=np.percentile(a,50)\n",
    "print(f'50th Percentile (Median): {per50}')"
   ]
  },
  {
   "cell_type": "code",
   "execution_count": 12,
   "id": "bdc15d57-60e1-4ec5-b456-0e028d626dbc",
   "metadata": {},
   "outputs": [],
   "source": [
    "per75=np.percentile(a,75)\n",
    "print(f'75th Percentile: {per75}')"
   ]
  },
  {
   "cell_type": "markdown",
   "metadata": {},
   "source": [
    "### Step 5: Calculating Standard Deviation and Variance\n",
    "\n",
    "- **Standard Deviation:** A measure of the amount of variation or dispersion of a set of values.\n",
    "- **Variance:** The expectation of the squared deviation from its mean."
   ]
  },
  {
   "cell_type": "code",
   "execution_count": 14,
   "id": "e78dffd9-a871-45b2-8906-3383c0e225cb",
   "metadata": {},
   "outputs": [],
   "source": [
    "# Standard Deviation\n",
    "std_dev = np.std(a)\n",
    "print(f'Standard Deviation: {std_dev}')"
   ]
  },
  {
   "cell_type": "code",
   "execution_count": 15,
   "id": "18a53bfd-d279-4449-800d-9b94a9c1be37",
   "metadata": {},
   "outputs": [],
   "source": [
    "# Variance\n",
    "variance = np.var(a)\n",
    "print(f'Variance: {variance}')"
   ]
  },
  {
   "cell_type": "markdown",
   "metadata": {},
   "source": [
    "### Step 6: Creating a Pie Chart\n",
    "\n",
    "A pie chart is a circular statistical graphic, which is divided into slices to illustrate numerical proportion."
   ]
  },
  {
   "cell_type": "code",
   "execution_count": 17,
   "id": "917d7298-af5d-4fe8-8652-17e617e8c60c",
   "metadata": {},
   "outputs": [],
   "source": [
    "import matplotlib.pyplot as plt\n",
    "\n",
    "# Sample data for the pie chart\n",
    "labels = ['A', 'B', 'C', 'D']\n",
    "sizes = [15, 30, 45, 10]\n",
    "\n",
    "plt.pie(sizes, labels=labels, autopct='%1.1f%%')\n",
    "plt.title('Sample Pie Chart')\n",
    "plt.show()"
   ]
  }
 ],
 "metadata": {
  "kernelspec": {
   "display_name": "Python 3 (ipykernel)",
   "language": "python",
   "name": "python3"
  },
  "language_info": {
   "codemirror_mode": {
    "name": "ipython",
    "version": 3
   },
   "file_extension": ".py",
   "mimetype": "text/x-python",
   "name": "python",
   "nbconvert_exporter": "python",
   "pygments_lexer": "ipython3",
   "version": "3.12.4"
  }
 },
 "nbformat": 4,
 "nbformat_minor": 5
}