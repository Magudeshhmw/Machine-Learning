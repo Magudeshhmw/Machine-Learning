{
 "cells": [
  {
   "cell_type": "markdown",
   "metadata": {},
   "source": [
    "# Data Preprocessing with StandardScaler and PCA\n",
    "**Author:** Magudeshwaran and Senthilkumaran\n",
    "\n",
    "**Goal:** To demonstrate common data preprocessing techniques, including feature scaling with `StandardScaler` and dimensionality reduction with `PCA`. "
   ]
  },
  {
   "cell_type": "markdown",
   "metadata": {},
   "source": [
    "### Step 1: Import Libraries and Load Data\n",
    "\n",
    "We'll use the Iris dataset from `sklearn.datasets` as our sample data."
   ]
  },
  {
   "cell_type": "code",
   "execution_count": 2,
   "id": "64acb9b2-476c-4fde-84c0-6f57e07d7c18",
   "metadata": {},
   "outputs": [],
   "source": [
    "import pandas as pd\n",
    "import numpy as np\n",
    "from sklearn.datasets import load_iris\n",
    "\n",
    "# Load the Iris dataset\n",
    "iris = load_iris()\n",
    "x = iris.data\n",
    "y = iris.target"
   ]
  },
  {
   "cell_type": "markdown",
   "metadata": {},
   "source": [
    "### Step 2: Feature Scaling with `StandardScaler`\n",
    "\n",
    "`StandardScaler` standardizes features by removing the mean and scaling to unit variance. This is an important step for many machine learning algorithms."
   ]
  },
  {
   "cell_type": "code",
   "execution_count": 4,
   "id": "52e01db8-288e-469d-b8a5-83d7a83c23a5",
   "metadata": {},
   "outputs": [],
   "source": [
    "from sklearn.preprocessing import StandardScaler\n",
    "sc=StandardScaler()\n",
    "x_scaled=sc.fit_transform(x)"
   ]
  },
  {
   "cell_type": "markdown",
   "metadata": {},
   "source": [
    "### Step 3: Label Encoding\n",
    "\n",
    "`LabelEncoder` is used to convert categorical labels (like 'setosa', 'versicolor', 'virginica') into numerical form (0, 1, 2). The Iris dataset target is already numerical, but this shows how it would be done."
   ]
  },
  {
   "cell_type": "code",
   "execution_count": 5,
   "id": "9cf84343-e60d-47ae-8a42-151bcfd2fa1a",
   "metadata": {},
   "outputs": [],
   "source": [
    "from sklearn.preprocessing import LabelEncoder\n",
    "lb=LabelEncoder()\n",
    "y_encoded=lb.fit_transform(y)"
   ]
  },
  {
   "cell_type": "markdown",
   "metadata": {},
   "source": [
    "### Step 4: Dimensionality Reduction with PCA\n",
    "\n",
    "Principal Component Analysis (PCA) is used to reduce the number of features in a dataset while preserving as much information as possible. Here, we reduce the 4 features of the Iris dataset down to 2 principal components for easy visualization."
   ]
  },
  {
   "cell_type": "code",
   "execution_count": 7,
   "id": "c93402ff-0b1b-4557-b493-28f5b2e91b4d",
   "metadata": {},
   "outputs": [],
   "source": [
    "from sklearn.decomposition import PCA\n",
    "\n",
    "pcaRes = PCA(n_components=2)\n",
    "principalComponents = pcaRes.fit_transform(x_scaled)\n",
    "pcaFinal = pd.DataFrame(data = principalComponents, columns = ['Att1', 'Att2'])\n",
    "pcaFinal = np.array(pcaFinal)"
   ]
  },
  {
   "cell_type": "markdown",
   "metadata": {},
   "source": [
    "### Step 5: Visualize the Results\n",
    "\n",
    "Now we can plot the 2 principal components and color the points by their original class to see how well the classes are separated in the reduced feature space."
   ]
  },
  {
   "cell_type": "code",
   "execution_count": 10,
   "id": "7b1edcdc-8fe4-4c85-b145-92b76b4b2670",
   "metadata": {},
   "outputs": [],
   "source": [
    "import matplotlib.pyplot as plt\n",
    "plt.scatter(pcaFinal[:,0],pcaFinal[:,1],c=y,cmap='autumn')\n",
    "plt.xlabel('Principal Component 1')\n",
    "plt.ylabel('Principal Component 2')\n",
    "plt.title('PCA of Iris Dataset')\n",
    "plt.show()"
   ]
  }
 ],
 "metadata": {
  "kernelspec": {
   "display_name": "Python [conda env:base] *",
   "language": "python",
   "name": "conda-base-py"
  },
  "language_info": {
   "codemirror_mode": {
    "name": "ipython",
    "version": 3
   },
   "file_extension": ".py",
   "mimetype": "text/x-python",
   "name": "python",
   "nbconvert_exporter": "python",
   "pygments_lexer": "ipython3",
   "version": "3.12.4"
  }
 },
 "nbformat": 4,
 "nbformat_minor": 5
}